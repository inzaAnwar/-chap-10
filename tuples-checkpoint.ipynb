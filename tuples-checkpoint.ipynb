{
 "cells": [
  {
   "cell_type": "code",
   "execution_count": 4,
   "id": "061c3d20",
   "metadata": {},
   "outputs": [
    {
     "name": "stdout",
     "output_type": "stream",
     "text": [
      "aliya\n",
      "(1, 2, 3, 4, 5)\n",
      "5\n",
      "1\n",
      "2\n",
      "3\n",
      "4\n",
      "5\n"
     ]
    }
   ],
   "source": [
    "a=('inza','aliya','amara')\n",
    "print(a[1])\n",
    "y=(1,2,3,4,5)\n",
    "print(y)\n",
    "print(max(y))\n",
    "for i in y:\n",
    "    print(i)"
   ]
  },
  {
   "cell_type": "code",
   "execution_count": 7,
   "id": "4edaf07d",
   "metadata": {},
   "outputs": [
    {
     "name": "stdout",
     "output_type": "stream",
     "text": [
      "[1, 2, 3]\n",
      "[0, 2, 3]\n"
     ]
    },
    {
     "ename": "TypeError",
     "evalue": "'tuple' object does not support item assignment",
     "output_type": "error",
     "traceback": [
      "\u001b[1;31m---------------------------------------------------------------------------\u001b[0m",
      "\u001b[1;31mTypeError\u001b[0m                                 Traceback (most recent call last)",
      "Cell \u001b[1;32mIn[7], line 12\u001b[0m\n\u001b[0;32m      6\u001b[0m \u001b[38;5;66;03m#this is string when am change the string that give me trace back error\u001b[39;00m\n\u001b[0;32m      7\u001b[0m \u001b[38;5;66;03m#b='banan'\u001b[39;00m\n\u001b[0;32m      8\u001b[0m \u001b[38;5;66;03m#b[0]='B'\u001b[39;00m\n\u001b[0;32m      9\u001b[0m \u001b[38;5;66;03m#print(b)\u001b[39;00m\n\u001b[0;32m     10\u001b[0m \u001b[38;5;66;03m#tuple also give error when am trying to chnage the content of tuples\u001b[39;00m\n\u001b[0;32m     11\u001b[0m p\u001b[38;5;241m=\u001b[39m(\u001b[38;5;124m\"\u001b[39m\u001b[38;5;124minza\u001b[39m\u001b[38;5;124m\"\u001b[39m,\u001b[38;5;124m\"\u001b[39m\u001b[38;5;124mamara\u001b[39m\u001b[38;5;124m\"\u001b[39m,\u001b[38;5;124m\"\u001b[39m\u001b[38;5;124mrabia\u001b[39m\u001b[38;5;124m\"\u001b[39m)\n\u001b[1;32m---> 12\u001b[0m p[\u001b[38;5;241m0\u001b[39m]\u001b[38;5;241m=\u001b[39m\u001b[38;5;124m\"\u001b[39m\u001b[38;5;124mjhope\u001b[39m\u001b[38;5;124m\"\u001b[39m\n\u001b[0;32m     13\u001b[0m \u001b[38;5;28mprint\u001b[39m(p)\n",
      "\u001b[1;31mTypeError\u001b[0m: 'tuple' object does not support item assignment"
     ]
    }
   ],
   "source": [
    "#tuples are immutable\n",
    "a=[1,2,3] # this isn list\n",
    "print(a)\n",
    "a[0]=0\n",
    "print(a)\n",
    "#this is string when am change the string that give me trace back error\n",
    "#b='banan'\n",
    "#b[0]='B'\n",
    "#print(b)\n",
    "#tuple also give error when am trying to chnage the content of tuples\n",
    "#p=(\"inza\",\"amara\",\"rabia\")\n",
    "#p[0]=\"jhope\"\n",
    "#print(p)"
   ]
  },
  {
   "cell_type": "code",
   "execution_count": 9,
   "id": "77a7facd",
   "metadata": {},
   "outputs": [
    {
     "name": "stdout",
     "output_type": "stream",
     "text": [
      "(1, 2, 3, 7, 5)\n"
     ]
    }
   ],
   "source": [
    "# things we not to do with tuples\n",
    "a=(1,2,3,7,5)\n",
    "#a.sort()\n",
    "#a.append()\n",
    "#a.reverse()\n",
    "print(a)"
   ]
  },
  {
   "cell_type": "code",
   "execution_count": 10,
   "id": "9ddc74dc",
   "metadata": {},
   "outputs": [
    {
     "data": {
      "text/plain": [
       "['__add__',\n",
       " '__class__',\n",
       " '__class_getitem__',\n",
       " '__contains__',\n",
       " '__delattr__',\n",
       " '__dir__',\n",
       " '__doc__',\n",
       " '__eq__',\n",
       " '__format__',\n",
       " '__ge__',\n",
       " '__getattribute__',\n",
       " '__getitem__',\n",
       " '__getnewargs__',\n",
       " '__gt__',\n",
       " '__hash__',\n",
       " '__init__',\n",
       " '__init_subclass__',\n",
       " '__iter__',\n",
       " '__le__',\n",
       " '__len__',\n",
       " '__lt__',\n",
       " '__mul__',\n",
       " '__ne__',\n",
       " '__new__',\n",
       " '__reduce__',\n",
       " '__reduce_ex__',\n",
       " '__repr__',\n",
       " '__rmul__',\n",
       " '__setattr__',\n",
       " '__sizeof__',\n",
       " '__str__',\n",
       " '__subclasshook__',\n",
       " 'count',\n",
       " 'index']"
      ]
     },
     "execution_count": 10,
     "metadata": {},
     "output_type": "execute_result"
    }
   ],
   "source": [
    "#tale of the 2 sequences\n",
    "a=list()\n",
    "type(a)\n",
    "dir(a)\n",
    "b=tuple()\n",
    "type(b)\n",
    "dir(b)"
   ]
  },
  {
   "cell_type": "code",
   "execution_count": 12,
   "id": "eccb2637",
   "metadata": {},
   "outputs": [
    {
     "name": "stdout",
     "output_type": "stream",
     "text": [
      "friends\n",
      "4\n"
     ]
    }
   ],
   "source": [
    "# we also put tuples in left and side after the assignment operator\n",
    "a,y=(4,'friends')\n",
    "print(y)\n",
    "print(a)"
   ]
  },
  {
   "cell_type": "code",
   "execution_count": 14,
   "id": "fe80ee45",
   "metadata": {},
   "outputs": [
    {
     "name": "stdout",
     "output_type": "stream",
     "text": [
      "book 0\n",
      "apple 6\n",
      "friend 6\n",
      "dict_items([('book', 0), ('apple', 6), ('friend', 6)])\n"
     ]
    }
   ],
   "source": [
    "#tuples & dictionary\n",
    "a=dict()\n",
    "a['book']=0\n",
    "a['apple']=6\n",
    "a['friend']=6\n",
    "for (k,v) in a.items():\n",
    "    print(k,v)\n",
    "b=a.items()\n",
    "print(b)"
   ]
  },
  {
   "cell_type": "code",
   "execution_count": 19,
   "id": "764ed37f",
   "metadata": {},
   "outputs": [
    {
     "data": {
      "text/plain": [
       "True"
      ]
     },
     "execution_count": 19,
     "metadata": {},
     "output_type": "execute_result"
    }
   ],
   "source": [
    "(1,2,3)<(5,9,10)\n"
   ]
  },
  {
   "cell_type": "code",
   "execution_count": 20,
   "id": "71dcdbdb",
   "metadata": {},
   "outputs": [
    {
     "data": {
      "text/plain": [
       "False"
      ]
     },
     "execution_count": 20,
     "metadata": {},
     "output_type": "execute_result"
    }
   ],
   "source": [
    "(5,9,10)<(1,2,3)"
   ]
  },
  {
   "cell_type": "code",
   "execution_count": 21,
   "id": "4d8abbaa",
   "metadata": {},
   "outputs": [
    {
     "data": {
      "text/plain": [
       "False"
      ]
     },
     "execution_count": 21,
     "metadata": {},
     "output_type": "execute_result"
    }
   ],
   "source": [
    "('inza','rabia')<('ahmed','shimaz')"
   ]
  },
  {
   "cell_type": "code",
   "execution_count": 22,
   "id": "2cb594a1",
   "metadata": {},
   "outputs": [
    {
     "data": {
      "text/plain": [
       "True"
      ]
     },
     "execution_count": 22,
     "metadata": {},
     "output_type": "execute_result"
    }
   ],
   "source": [
    "( 'Jones', 'Sally' ) < ('Jones', 'Sam')"
   ]
  },
  {
   "cell_type": "code",
   "execution_count": 24,
   "id": "4989463a",
   "metadata": {},
   "outputs": [
    {
     "data": {
      "text/plain": [
       "[('a', 10), ('b', 20), ('c', 30), ('h', 1)]"
      ]
     },
     "execution_count": 24,
     "metadata": {},
     "output_type": "execute_result"
    }
   ],
   "source": [
    "# sorted list of tuples\n",
    "a={'a':10,'b':20,'h':1,'c':30}\n",
    "a.items()\n",
    "sorted(a.items())"
   ]
  },
  {
   "cell_type": "code",
   "execution_count": 31,
   "id": "f5753e0c",
   "metadata": {},
   "outputs": [
    {
     "name": "stdout",
     "output_type": "stream",
     "text": [
      "a 10\n",
      "b 1\n",
      "c 22\n",
      "g 0\n"
     ]
    }
   ],
   "source": [
    "a = {'a':10, 'b':1, 'c':22, 'g':0}\n",
    "t = sorted(a.items())\n",
    "for (k, v) in sorted(a.items()):\n",
    "    print(k, v)"
   ]
  },
  {
   "cell_type": "code",
   "execution_count": 38,
   "id": "32278578",
   "metadata": {},
   "outputs": [
    {
     "name": "stdout",
     "output_type": "stream",
     "text": [
      "{'a': 10, 'g': 1, 'b': 1}\n",
      "[('a', 10), ('b', 1), ('g', 1)]\n",
      "[('g', 1), ('b', 1), ('a', 10)]\n"
     ]
    }
   ],
   "source": [
    "# sorted by values instead of keys when take list of tuples\n",
    "a={'a':10,'g':1,'b':1}\n",
    "print(a)\n",
    "b=list()\n",
    "for (k,v) in sorted(a.items()):\n",
    "    b.append((k,v))\n",
    "print(b)\n",
    "b=sorted(b, reverse=True)\n",
    "print(b)"
   ]
  },
  {
   "cell_type": "code",
   "execution_count": 40,
   "id": "e6d7990e",
   "metadata": {},
   "outputs": [
    {
     "name": "stdout",
     "output_type": "stream",
     "text": [
      "[(1, 'b'), (10, 'a'), (22, 'c')]\n"
     ]
    }
   ],
   "source": [
    "a = {'a':10, 'b':1, 'c':22}\n",
    "print( sorted( [ (v,k) for k,v in a.items() ] ) )"
   ]
  }
 ],
 "metadata": {
  "kernelspec": {
   "display_name": "Python 3 (ipykernel)",
   "language": "python",
   "name": "python3"
  },
  "language_info": {
   "codemirror_mode": {
    "name": "ipython",
    "version": 3
   },
   "file_extension": ".py",
   "mimetype": "text/x-python",
   "name": "python",
   "nbconvert_exporter": "python",
   "pygments_lexer": "ipython3",
   "version": "3.10.9"
  }
 },
 "nbformat": 4,
 "nbformat_minor": 5
}
